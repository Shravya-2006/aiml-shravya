{
 "cells": [
  {
   "cell_type": "markdown",
   "id": "f3a76666",
   "metadata": {},
   "source": [
    "Write a program in Jupyter Notebook to declare variables of different data types (integer, float, string, and boolean). Print each variable and its type."
   ]
  },
  {
   "cell_type": "code",
   "execution_count": 2,
   "id": "fcbcf867",
   "metadata": {},
   "outputs": [
    {
     "name": "stdout",
     "output_type": "stream",
     "text": [
      "<class 'str'>\n",
      "<class 'int'>\n",
      "<class 'float'>\n",
      "<class 'str'>\n"
     ]
    }
   ],
   "source": [
    "str1 = \"Aiml\"\n",
    "print(type(str1))\n",
    "int1 = 65\n",
    "print(type(int1))\n",
    "fl1 = 45.08\n",
    "print(type(fl1))\n",
    "bol1 = \"true\"\n",
    "print(type(bol1))"
   ]
  },
  {
   "cell_type": "code",
   "execution_count": null,
   "id": "4ee5fc6b",
   "metadata": {},
   "outputs": [],
   "source": []
  }
 ],
 "metadata": {
  "kernelspec": {
   "display_name": "Python 3 (ipykernel)",
   "language": "python",
   "name": "python3"
  },
  "language_info": {
   "codemirror_mode": {
    "name": "ipython",
    "version": 3
   },
   "file_extension": ".py",
   "mimetype": "text/x-python",
   "name": "python",
   "nbconvert_exporter": "python",
   "pygments_lexer": "ipython3",
   "version": "3.11.5"
  }
 },
 "nbformat": 4,
 "nbformat_minor": 5
}
