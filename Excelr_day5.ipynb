{
 "cells": [
  {
   "cell_type": "markdown",
   "id": "ab3855a0",
   "metadata": {},
   "source": [
    "1)Write a Python program that performs the following tasks:\n",
    "1. Ask the user to enter a positive integer `n`.\n",
    "2. Use a `for` loop to print all numbers from `1` to `n` on separate lines.\n",
    "3. Use a `while` loop to calculate the sum of all numbers from `1` to `n` and print the result.\n"
   ]
  },
  {
   "cell_type": "code",
   "execution_count": 1,
   "id": "8ed73974",
   "metadata": {},
   "outputs": [
    {
     "name": "stdout",
     "output_type": "stream",
     "text": [
      "Enter a positive integer: 10\n",
      "Numbers from 1 to 10 using a for loop:\n",
      "1\n",
      "2\n",
      "3\n",
      "4\n",
      "5\n",
      "6\n",
      "7\n",
      "8\n",
      "9\n",
      "10\n",
      "The sum of numbers from 1 to 10 is: 55\n"
     ]
    }
   ],
   "source": [
    "n = int(input(\"Enter a positive integer: \"))\n",
    "print(\"Numbers from 1 to\", n, \"using a for loop:\")\n",
    "for i in range(1, n + 1):\n",
    "    print(i)\n",
    "sum_of_numbers = 0\n",
    "i = 1\n",
    "while i <= n:\n",
    "    sum_of_numbers += i\n",
    "    i += 1\n",
    "print(f\"The sum of numbers from 1 to {n} is: {sum_of_numbers}\")"
   ]
  },
  {
   "cell_type": "markdown",
   "id": "232bcd68",
   "metadata": {},
   "source": [
    "2)Write a Python program that includes a user-defined function to perform the following tasks:\n",
    "\n",
    "1. Define a function named calculate_square that takes a single argument `n` and returns the square of `n`.\n",
    "2. In the main program, ask the user to input a positive integer.\n",
    "3. Call the calculate_square function with the user-provided number and display the result."
   ]
  },
  {
   "cell_type": "code",
   "execution_count": 2,
   "id": "12063cca",
   "metadata": {},
   "outputs": [
    {
     "name": "stdout",
     "output_type": "stream",
     "text": [
      "Enter a positive integer: 5\n",
      "The square of 5 is: 25\n"
     ]
    }
   ],
   "source": [
    "def calculate_square(n):\n",
    "    return n ** 2\n",
    "try:\n",
    "    n = int(input(\"Enter a positive integer: \"))\n",
    "    if n < 0:\n",
    "        print(\"Please enter a positive integer.\")\n",
    "    else:\n",
    "        result = calculate_square(n)\n",
    "        print(f\"The square of {n} is: {result}\")\n",
    "except ValueError:\n",
    "    print(\"Invalid input. Please enter a valid positive integer.\")"
   ]
  },
  {
   "cell_type": "code",
   "execution_count": null,
   "id": "07da1115",
   "metadata": {},
   "outputs": [],
   "source": []
  }
 ],
 "metadata": {
  "kernelspec": {
   "display_name": "Python 3 (ipykernel)",
   "language": "python",
   "name": "python3"
  },
  "language_info": {
   "codemirror_mode": {
    "name": "ipython",
    "version": 3
   },
   "file_extension": ".py",
   "mimetype": "text/x-python",
   "name": "python",
   "nbconvert_exporter": "python",
   "pygments_lexer": "ipython3",
   "version": "3.11.5"
  }
 },
 "nbformat": 4,
 "nbformat_minor": 5
}
